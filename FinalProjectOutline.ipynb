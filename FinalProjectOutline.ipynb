{
  "nbformat": 4,
  "nbformat_minor": 0,
  "metadata": {
    "colab": {
      "provenance": [],
      "authorship_tag": "ABX9TyPldLy16CyOKqqxdlX8EcZQ",
      "include_colab_link": true
    },
    "kernelspec": {
      "name": "python3",
      "display_name": "Python 3"
    },
    "language_info": {
      "name": "python"
    }
  },
  "cells": [
    {
      "cell_type": "markdown",
      "metadata": {
        "id": "view-in-github",
        "colab_type": "text"
      },
      "source": [
        "<a href=\"https://colab.research.google.com/github/jcrawford05/HUM1600/blob/main/FinalProjectOutline.ipynb\" target=\"_parent\"><img src=\"https://colab.research.google.com/assets/colab-badge.svg\" alt=\"Open In Colab\"/></a>"
      ]
    },
    {
      "cell_type": "markdown",
      "source": [
        "James Crawford\n",
        "\n",
        "Final Project Outline\n",
        "\n",
        "Disclaimer: This outline was made with the use of chatGPT from OpenAI. This outline is to serve as a guide for my final project, not the project itself."
      ],
      "metadata": {
        "id": "zP64Y34c5SfM"
      }
    },
    {
      "cell_type": "code",
      "source": [
        "import tkinter as tk\n",
        "from tkinter import messagebox\n",
        "import sqlite3\n",
        "from bs4 import BeautifulSoup\n",
        "import requests"
      ],
      "metadata": {
        "id": "nV6Jae03dVbC"
      },
      "execution_count": null,
      "outputs": []
    },
    {
      "cell_type": "markdown",
      "source": [
        "1. **Design the GUI**: You can use libraries like Tkinter, PyQt, or Kivy to create a graphical user interface. Tkinter is a built-in Python library, so it might be easier to start with if you're new to GUI programming."
      ],
      "metadata": {
        "id": "T9jAasdbc4Tx"
      }
    },
    {
      "cell_type": "code",
      "source": [
        "# Step 1: Design the GUI\n",
        "def search_fastener():\n",
        "    search_type = type_entry.get()\n",
        "    search_size = size_entry.get()\n",
        "    conn = sqlite3.connect('fasteners.db')\n",
        "    c = conn.cursor()\n",
        "    c.execute(\"SELECT * FROM fasteners WHERE type=? AND size=?\", (search_type, search_size))\n",
        "    result = c.fetchone()\n",
        "    conn.close()\n",
        "    if result:\n",
        "        messagebox.showinfo('Fastener Found', f'Type: {result[1]}\\nSize: {result[2]}')\n",
        "    else:\n",
        "        messagebox.showinfo('Fastener Not Found', 'No fastener found with the provided characteristics.')"
      ],
      "metadata": {
        "id": "v2GEqeXldnzT"
      },
      "execution_count": null,
      "outputs": []
    },
    {
      "cell_type": "markdown",
      "source": [
        "2. **Set up the Database**: You can use SQLite, which is also a built-in Python library, for simplicity. Alternatively, you can use other databases like MySQL or PostgreSQL if your application requires more scalability. Ensure that the database schema supports the data you want to store and retrieve."
      ],
      "metadata": {
        "id": "xKxnv6Crc7Ry"
      }
    },
    {
      "cell_type": "code",
      "source": [
        "# Step 2: Set up the Database\n",
        "def create_database():\n",
        "    conn = sqlite3.connect('fasteners.db')\n",
        "    c = conn.cursor()\n",
        "    c.execute('''CREATE TABLE IF NOT EXISTS fasteners\n",
        "                 (id INTEGER PRIMARY KEY, type TEXT, size TEXT)''')\n",
        "    conn.commit()\n",
        "    conn.close()"
      ],
      "metadata": {
        "id": "wOk4vTiYdcr2"
      },
      "execution_count": null,
      "outputs": []
    },
    {
      "cell_type": "markdown",
      "source": [
        "3. **Implement Data Scraping**: You need to scrape data about fasteners from relevant sources on the web. You can use libraries like BeautifulSoup or Scrapy for web scraping. Make sure to respect the terms of service of the websites you scrape."
      ],
      "metadata": {
        "id": "FCCqulS-dDKu"
      }
    },
    {
      "cell_type": "code",
      "source": [
        "# Step 3: Implement Data Scraping\n",
        "def scrape_data():\n",
        "    url = 'https://example.com/fasteners'\n",
        "    response = requests.get(url)\n",
        "    soup = BeautifulSoup(response.content, 'html.parser')\n",
        "    fasteners_data = []\n",
        "    for item in soup.find_all('div', class_='fastener'):\n",
        "        fastener_type = item.find('h2').text.strip()\n",
        "        fastener_size = item.find('p').text.strip()\n",
        "        fasteners_data.append((fastener_type, fastener_size))\n",
        "    return fasteners_data"
      ],
      "metadata": {
        "id": "ySKAOkVsdfDj"
      },
      "execution_count": null,
      "outputs": []
    },
    {
      "cell_type": "markdown",
      "source": [
        "4. **Store Scraped Data in the Database**: Once you have scraped the data, you need to store it in your database. Make sure to handle any data transformations or cleaning that may be necessary."
      ],
      "metadata": {
        "id": "y6q8LIj8dDa1"
      }
    },
    {
      "cell_type": "code",
      "source": [
        "# Step 4: Store Scraped Data in the Database\n",
        "def insert_data(data):\n",
        "    conn = sqlite3.connect('fasteners.db')\n",
        "    c = conn.cursor()\n",
        "    c.executemany('INSERT INTO fasteners (type, size) VALUES (?, ?)', data)\n",
        "    conn.commit()\n",
        "    conn.close()"
      ],
      "metadata": {
        "id": "7Et2a64kdhsm"
      },
      "execution_count": null,
      "outputs": []
    },
    {
      "cell_type": "markdown",
      "source": [
        "5. **Implement Search Functionality**: Create functions to search the database based on the characteristics provided by the user through the GUI. You might need to use SQL queries to retrieve relevant data from the database."
      ],
      "metadata": {
        "id": "z92t7pUCdDy2"
      }
    },
    {
      "cell_type": "code",
      "source": [
        "# Step 5: Implement Search Functionality\n",
        "def search_fastener():\n",
        "    search_type = type_entry.get()\n",
        "    search_size = size_entry.get()\n",
        "    conn = sqlite3.connect('fasteners.db')\n",
        "    c = conn.cursor()\n",
        "    c.execute(\"SELECT * FROM fasteners WHERE type=? AND size=?\", (search_type, search_size))\n",
        "    result = c.fetchone()\n",
        "    conn.close()\n",
        "    display_search_result(result)"
      ],
      "metadata": {
        "id": "IsIWD6QReJOA"
      },
      "execution_count": null,
      "outputs": []
    },
    {
      "cell_type": "markdown",
      "source": [
        "6. **Display Search Results in the GUI**: Once the search is performed, display the results in the GUI for the user to see. You may need to format the results appropriately for display."
      ],
      "metadata": {
        "id": "ZxfE7jtddEFF"
      }
    },
    {
      "cell_type": "code",
      "source": [
        "# Step 6: Display Search Results in the GUI\n",
        "def display_search_result(result):\n",
        "    if result:\n",
        "        messagebox.showinfo('Fastener Found', f'Type: {result[1]}\\nSize: {result[2]}')\n",
        "    else:\n",
        "        messagebox.showinfo('Fastener Not Found', 'No fastener found with the provided characteristics.')\n"
      ],
      "metadata": {
        "id": "NYvACO40eKl1"
      },
      "execution_count": null,
      "outputs": []
    },
    {
      "cell_type": "markdown",
      "source": [
        "7. **Implement Mutability**: Allow the user to modify the database through the GUI. This might involve adding, updating, or deleting records. Make sure to handle these operations securely to prevent unintended data loss or corruption."
      ],
      "metadata": {
        "id": "rVErRWMadMKx"
      }
    },
    {
      "cell_type": "code",
      "source": [
        "# Step 7: Implement Mutability\n",
        "def add_fastener():\n",
        "    new_type = new_type_entry.get()\n",
        "    new_size = new_size_entry.get()\n",
        "    conn = sqlite3.connect('fasteners.db')\n",
        "    c = conn.cursor()\n",
        "    c.execute(\"INSERT INTO fasteners (type, size) VALUES (?, ?)\", (new_type, new_size))\n",
        "    conn.commit()\n",
        "    conn.close()\n",
        "    messagebox.showinfo('Fastener Added', 'New fastener added successfully.')\n",
        "\n",
        "def clear_entries():\n",
        "    type_entry.delete(0, 'end')\n",
        "    size_entry.delete(0, 'end')\n",
        "    new_type_entry.delete(0, 'end')\n",
        "    new_size_entry.delete(0, 'end')"
      ],
      "metadata": {
        "id": "FrZlR7ThebgA"
      },
      "execution_count": null,
      "outputs": []
    },
    {
      "cell_type": "markdown",
      "source": [
        "8. **Testing and Debugging**: Test your application thoroughly to ensure that it works as expected. Handle any errors or edge cases gracefully."
      ],
      "metadata": {
        "id": "z1js65PAdMd-"
      }
    },
    {
      "cell_type": "markdown",
      "source": [
        "9. **Deployment**: Once your application is ready, you can deploy it to your users. You might package it as an executable or distribute it as a Python package, depending on your users' needs."
      ],
      "metadata": {
        "id": "FyYLzHW5dThr"
      }
    },
    {
      "cell_type": "code",
      "source": [
        "## Main\n",
        "\n",
        "# GUI Setup\n",
        "root = tk.Tk()\n",
        "root.title('Fastener Search')\n",
        "\n",
        "type_label = tk.Label(root, text='Type:')\n",
        "type_label.grid(row=0, column=0)\n",
        "type_entry = tk.Entry(root)\n",
        "type_entry.grid(row=0, column=1)\n",
        "\n",
        "size_label = tk.Label(root, text='Size:')\n",
        "size_label.grid(row=1, column=0)\n",
        "size_entry = tk.Entry(root)\n",
        "size_entry.grid(row=1, column=1)\n",
        "\n",
        "search_button = tk.Button(root, text='Search', command=search_fastener)\n",
        "search_button.grid(row=2, column=0, columnspan=2)\n",
        "\n",
        "new_type_label = tk.Label(root, text='New Type:')\n",
        "new_type_label.grid(row=3, column=0)\n",
        "new_type_entry = tk.Entry(root)\n",
        "new_type_entry.grid(row=3, column=1)\n",
        "\n",
        "new_size_label = tk.Label(root, text='New Size:')\n",
        "new_size_label.grid(row=4, column=0)\n",
        "new_size_entry = tk.Entry(root)\n",
        "new_size_entry.grid(row=4, column=1)\n",
        "\n",
        "add_button = tk.Button(root, text='Add Fastener', command=add_fastener)\n",
        "add_button.grid(row=5, column=0, columnspan=2)\n",
        "\n",
        "clear_button = tk.Button(root, text='Clear Entries', command=clear_entries)\n",
        "clear_button.grid(row=6, column=0, columnspan=2)\n",
        "\n",
        "# Step 2: Set up the Database (call the function)\n",
        "create_database()\n",
        "\n",
        "# Step 3: Implement Data Scraping (call the function)\n",
        "data = scrape_data()\n",
        "\n",
        "# Step 4: Store Scraped Data in the Database (call the function)\n",
        "insert_data(data)\n",
        "\n",
        "root.mainloop()\n",
        "\n"
      ],
      "metadata": {
        "id": "Zq-W31S6d57Q"
      },
      "execution_count": null,
      "outputs": []
    }
  ]
}
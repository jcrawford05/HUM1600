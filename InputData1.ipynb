{
  "nbformat": 4,
  "nbformat_minor": 0,
  "metadata": {
    "colab": {
      "provenance": [],
      "authorship_tag": "ABX9TyOy+/xDA6JYCrWfEeZSnm53",
      "include_colab_link": true
    },
    "kernelspec": {
      "name": "python3",
      "display_name": "Python 3"
    },
    "language_info": {
      "name": "python"
    }
  },
  "cells": [
    {
      "cell_type": "markdown",
      "metadata": {
        "id": "view-in-github",
        "colab_type": "text"
      },
      "source": [
        "<a href=\"https://colab.research.google.com/github/jcrawford05/HUM1600/blob/main/InputData1.ipynb\" target=\"_parent\"><img src=\"https://colab.research.google.com/assets/colab-badge.svg\" alt=\"Open In Colab\"/></a>"
      ]
    },
    {
      "cell_type": "code",
      "execution_count": null,
      "metadata": {
        "id": "RrZ50_r63Drb"
      },
      "outputs": [],
      "source": [
        "# James Crawford\n",
        "# 1/16/2024\n",
        "\n",
        "\n",
        "# The primary difference between qualitative and quantitative data is the data\n",
        "# that is categorized by each. Qualitative data is some information that is\n",
        "# NOT comprised of numerical values, for example, when looking at a data set\n",
        "# that contains the information of student’s name, graduating year, gender, and\n",
        "# GPA, the name and gender would be examples of qualitative data. Quantitative\n",
        "# data is information of the numerical nature. Using the aforementioned example,\n",
        "# the students' graduating year and GPA would be examples of numerical\n",
        "# quantitative data. It is to be noted that there are subsections of each of the\n",
        "# data types. Quantitative data is comprised of Discrete and continuous data\n",
        "# types. The GPA is an example of a continuous data type, and the graduation\n",
        "# date is a discrete data type. The subsections of qualitative data types are\n",
        "# Nominal and Ordinal. Both of the examples used for this data type are Nominal.\n",
        "\n",
        "\n",
        "# Casting is the action in which a variable type is assigned. This can be done a\n",
        "# couple of ways, first being explicitly. This is when the programmer tells the\n",
        "# computer what type if data type the variable will be when the variable is\n",
        "# initialized. This can be done by doing something like this: float g=9.81.\n",
        "# Here, I explicitly told the computer that the variable g is a type float and\n",
        "# has a value of 9.81. Explicitly casting a variable is needed when a variable\n",
        "# is first introduced and/or the variable needs to be described by some of the\n",
        "# characteristics that certain variable types allow. The casting method is\n",
        "# implicit casting. Implicit casting is when the computer changes the variable\n",
        "# type in order to do an operation that the programmer as requested. For\n",
        "# example, if we have:\n",
        "#\n",
        "# float grav=9.81\n",
        "# int mass=10\n",
        "# float force=mass/grav\n",
        "#\n",
        "# The compiler would temporally change the data type for the mass to a double in\n",
        "# order to calculate the value of force.\n",
        "\n",
        "\n",
        "# The scale refers to the number of digits to the right of the decimal point.\n",
        "# Precision is the number of significant figures. For the number 9.80665,\n",
        "# the precision is 6 and the scale is 5."
      ]
    },
    {
      "cell_type": "code",
      "source": [
        "# Problem 1:\n",
        "\n",
        "first = 'James';\n",
        "last = 'Crawford';\n",
        "print(first,last);\n",
        "print(first + '.'+ last +'@email.com');\n",
        "\n",
        "\n"
      ],
      "metadata": {
        "colab": {
          "base_uri": "https://localhost:8080/"
        },
        "id": "4XhBQmcE3izS",
        "outputId": "4e921180-ddf6-498f-9cda-2b9909b88e1f"
      },
      "execution_count": null,
      "outputs": [
        {
          "output_type": "stream",
          "name": "stdout",
          "text": [
            "James Crawford\n",
            "James.Crawford@email.com\n"
          ]
        }
      ]
    },
    {
      "cell_type": "code",
      "source": [
        "# Problem 2:\n",
        "\n",
        "x=100\n",
        "y=15\n",
        "\n",
        "print(x*y)\n",
        "print(type(x*y))\n",
        "print(x/y)\n",
        "print(type(x/y))\n"
      ],
      "metadata": {
        "colab": {
          "base_uri": "https://localhost:8080/"
        },
        "id": "lbrqbQsvDiRi",
        "outputId": "1b2e2bcc-e64a-48de-9940-d3cf30f6c7bb"
      },
      "execution_count": null,
      "outputs": [
        {
          "output_type": "stream",
          "name": "stdout",
          "text": [
            "1500\n",
            "<class 'int'>\n",
            "6.666666666666667\n",
            "<class 'float'>\n"
          ]
        }
      ]
    },
    {
      "cell_type": "code",
      "source": [
        "# Problem 3\n",
        "\n",
        "x = input(\"Enter an Integer:\")\n",
        "y = input(\"Enter another Integer:\")\n",
        "x=int(x);\n",
        "y=int(y);\n",
        "print(type(x),type(y))\n",
        "print(x/y)\n",
        "print(type(x/y))"
      ],
      "metadata": {
        "colab": {
          "base_uri": "https://localhost:8080/"
        },
        "id": "uujef6oeF4gD",
        "outputId": "116dadfe-77e2-4ae0-8b12-6ddd23ef3ee5"
      },
      "execution_count": null,
      "outputs": [
        {
          "output_type": "stream",
          "name": "stdout",
          "text": [
            "Enter an Integer:5\n",
            "Enter another Integer:10\n",
            "<class 'int'> <class 'int'>\n",
            "0.5\n",
            "<class 'float'>\n"
          ]
        }
      ]
    },
    {
      "cell_type": "markdown",
      "source": [
        "Problem 4:\n",
        "\n",
        "1. True\n",
        "2. False\n",
        "3. False\n"
      ],
      "metadata": {
        "id": "UsX484owJty1"
      }
    },
    {
      "cell_type": "code",
      "source": [
        "# Problem 5\n",
        "\n",
        "x='University of Utah'\n",
        "\n",
        "print(x[14]+x[8]+x[4]+x[6],end='!') #assuming you want the chars without seperation. If you want spaces, replace the \"+\" with \",\"\n",
        "\n"
      ],
      "metadata": {
        "colab": {
          "base_uri": "https://localhost:8080/"
        },
        "id": "oKcTsuciPsw2",
        "outputId": "8e1e7f99-42d9-465d-9913-dcb52abd0e2b"
      },
      "execution_count": null,
      "outputs": [
        {
          "output_type": "stream",
          "name": "stdout",
          "text": [
            "Utes!"
          ]
        }
      ]
    },
    {
      "cell_type": "code",
      "source": [
        "# Problem 6\n",
        "\n",
        "string=\"To be, or not to be, that is the question: Whether 'tis nobler in the mind to suffer The slings and arrows of outrageous fortune, Or to take arms against a sea of troubles And by opposing end them.\"\n",
        "A=string.find('A')\n",
        "\n",
        "r=string.find('r')\n",
        "e=string.find('e')\n",
        "b=string.find('b')\n",
        "l=string.find('l')\n",
        "ep=string.find(\"'\")\n",
        "s=string.find('s')\n",
        "t=string.find('t')\n",
        "h=string.find('h')\n",
        "o=string.find('o')\n",
        "n=string.find('n')\n",
        "space=string.find(' ')\n",
        "prd=string.find('.')\n",
        "print(string[A]+string[space]+string[r]+string[e]+string[b]+string[e]+string[l]+string[ep]+string[s]+string[space]+string[t]+string[h]+string[o]+string[r]+string[n]+string[prd])\n",
        "\n"
      ],
      "metadata": {
        "colab": {
          "base_uri": "https://localhost:8080/"
        },
        "id": "R6N5NGgDYYkY",
        "outputId": "9e508446-950c-42f5-b82b-567c591d5e53"
      },
      "execution_count": null,
      "outputs": [
        {
          "output_type": "stream",
          "name": "stdout",
          "text": [
            "A rebel's thorn.\n"
          ]
        }
      ]
    }
  ]
}
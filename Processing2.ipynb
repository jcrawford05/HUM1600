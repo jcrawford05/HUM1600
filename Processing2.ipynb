{
  "nbformat": 4,
  "nbformat_minor": 0,
  "metadata": {
    "colab": {
      "provenance": [],
      "authorship_tag": "ABX9TyPUQknCOSCPY9TGzywJzZby",
      "include_colab_link": true
    },
    "kernelspec": {
      "name": "python3",
      "display_name": "Python 3"
    },
    "language_info": {
      "name": "python"
    }
  },
  "cells": [
    {
      "cell_type": "markdown",
      "metadata": {
        "id": "view-in-github",
        "colab_type": "text"
      },
      "source": [
        "<a href=\"https://colab.research.google.com/github/jcrawford05/HUM1600/blob/main/Processing2.ipynb\" target=\"_parent\"><img src=\"https://colab.research.google.com/assets/colab-badge.svg\" alt=\"Open In Colab\"/></a>"
      ]
    },
    {
      "cell_type": "code",
      "execution_count": null,
      "metadata": {
        "id": "mP0XZlLf29Pb"
      },
      "outputs": [],
      "source": [
        "#James Crawford\n",
        "#2/23/2024\n",
        "\n",
        "#The difference between a user-defined function and a build in function is who\n",
        "# and where the function is created. A user-base function is created by you,\n",
        "# and defined in the .py file you are currently working in. Build-in functions\n",
        "# are created by other programmers to make programming more accessible and\n",
        "# efficient. They are defined in packages that the user imports into their .py\n",
        "# file\n",
        "\n",
        "#The difference between a void function and a value function is the job of the\n",
        "# function, specifically, what the function is supposed to return when it is\n",
        "# implemented. Void functions don’t return a value of any kind to the user. A\n",
        "# value function gives the user a value when it is called."
      ]
    },
    {
      "cell_type": "code",
      "source": [
        "#Problem 1\n",
        "\n",
        "def print_header():\n",
        "    print(\"\\n\" + \"-\" * 50)\n",
        "    print(\"S u m m a r y  R e p o r t\")\n",
        "    print(\"\\n\" + \"-\" * 50)\n",
        "\n",
        "dataArray = [23,56, 19, 52, 87, 88, 50, 34, 22, 61, 52, 43, 25, 76, 77, 94]\n",
        "\n",
        "print_header()\n",
        "print(\"The array has a length of\", str(len(dataArray))+\".\")\n",
        "print(\"The maximum value is\", str(max(dataArray))+\" and the minimum is\", str(min(dataArray))+\".\")\n",
        "print(\"The total of all the elements in the array is\", str(sum(dataArray))+\".\")\n",
        "\n"
      ],
      "metadata": {
        "colab": {
          "base_uri": "https://localhost:8080/"
        },
        "id": "8IHwDAP23CXw",
        "outputId": "48429977-6082-49dc-b195-b24f226acb6a"
      },
      "execution_count": null,
      "outputs": [
        {
          "output_type": "stream",
          "name": "stdout",
          "text": [
            "\n",
            "--------------------------------------------------\n",
            "S u m m a r y  R e p o r t\n",
            "\n",
            "--------------------------------------------------\n",
            "The array has a length of 16.\n",
            "The maximum value is 94 and the minimum is 19.\n",
            "The total of all the elements in the array is 859.\n"
          ]
        }
      ]
    },
    {
      "cell_type": "code",
      "source": [
        "#Problem 2\n",
        "\n",
        "def nameCreator(first, last):\n",
        "  print(first,last)\n",
        "  print(last+\",\",last)\n",
        "  print(first.upper(), last.upper())\n",
        "  fullName = first+last\n",
        "  fullNameWSpaces = \"\"\n",
        "  for char in fullName:\n",
        "    fullNameWSpaces += char + \" \"\n",
        "  print(fullNameWSpaces)\n",
        "\n",
        "\n",
        "first = input(\"Enter your first name here:\")\n",
        "last = input(\"Enter your last name here:\")\n",
        "nameCreator(first, last)"
      ],
      "metadata": {
        "colab": {
          "base_uri": "https://localhost:8080/"
        },
        "id": "_aBfDoDl8moC",
        "outputId": "ca234b43-efc8-4ebb-94f5-3c3c737a8b3f"
      },
      "execution_count": null,
      "outputs": [
        {
          "output_type": "stream",
          "name": "stdout",
          "text": [
            "Enter your first name here:James\n",
            "Enter your last name here:Crawford\n",
            "James Crawford\n",
            "Crawford, Crawford\n",
            "JAMES CRAWFORD\n",
            "J a m e s C r a w f o r d \n"
          ]
        }
      ]
    },
    {
      "cell_type": "code",
      "source": [
        "#Problem 3\n",
        "\n",
        "import random\n",
        "\n",
        "def diceRoll():\n",
        "  return random.randint(1,6)\n",
        "\n",
        "die = diceRoll()\n",
        "print(\"I just rolled a die.\")\n",
        "#print(\"Testing: the die rolled a \"+str(die))   #uncomment this line and enter the answer to test the break when someone wins\n",
        "attempts = 3\n",
        "while(attempts>0):\n",
        "  userGuess = int(input(\"Guess what I just rolled (1-6):\"))\n",
        "  if(userGuess==die):\n",
        "    print(\"You guessed correct. Congratulations, you WIN\")\n",
        "    break\n",
        "  elif(userGuess!=die and attempts>1):\n",
        "    print(\"You guessed wrong, try again\")\n",
        "  else:\n",
        "    print(\"You guessed wrong. The correct answer is\",str(die)+ \". Game Over\")\n",
        "  attempts = attempts-1\n",
        "  if(attempts>1):\n",
        "    print(\"You have\",str(attempts), \"guesses left.\")\n"
      ],
      "metadata": {
        "colab": {
          "base_uri": "https://localhost:8080/"
        },
        "id": "pnJ3y0bf8jBy",
        "outputId": "66f5ac76-c925-4b7d-a85f-481d162359c6"
      },
      "execution_count": null,
      "outputs": [
        {
          "output_type": "stream",
          "name": "stdout",
          "text": [
            "I just rolled a die.\n",
            "Testing: the die rolled a 5\n",
            "Guess what I just rolled (1-6):4\n",
            "You guessed wrong, try again\n",
            "You have 2 guesses left.\n",
            "Guess what I just rolled (1-6):3\n",
            "You guessed wrong, try again\n",
            "Guess what I just rolled (1-6):5\n",
            "You guessed correct. Congratulations, you WIN\n"
          ]
        }
      ]
    }
  ]
}